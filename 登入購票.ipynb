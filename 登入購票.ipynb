{
 "cells": [
  {
   "cell_type": "markdown",
   "metadata": {},
   "source": [
    "## 登入帳號"
   ]
  },
  {
   "cell_type": "code",
   "execution_count": 25,
   "metadata": {},
   "outputs": [],
   "source": [
    "#! pip install selenium\n",
    "from selenium import webdriver\n",
    "from time import sleep\n",
    "#使用chrome的webdriver\n",
    "#driver = webdriver.Firefox()\n",
    "driver = webdriver.Chrome()\n",
    "#開啟google首頁\n",
    "driver.get('https://tixcraft.com')\n",
    "#如果需要執行完自動關閉，就要加上下面這一行\n",
    "#browser.close()\n",
    "\n",
    "\n",
    "#點選會員登入\n",
    "driver.find_element_by_class_name(\"fa\").click()\n",
    "driver.find_element_by_xpath('//*[@href=\"#login\"]').click()\n",
    "sleep(1)  # 强制等待3秒再执行下一步\n",
    "#點GOOGLE帳號登入\n",
    "driver.find_element_by_id(\"loginGoogle\").click()\n",
    "\n",
    "#輸入GOOGLE帳號\n",
    "element = driver.find_element_by_id(\"identifierId\")\n",
    "element.send_keys(\"b2878323@gmail.com\")\n",
    "element.submit()\n",
    "driver.find_element_by_class_name(\"CwaK9\").click()\n",
    "\n",
    "sleep(1)  # 强制等待3秒再执行下一步\n",
    "\n",
    "#輸入google密碼\n",
    "element2 = driver.find_element_by_class_name(\"whsOnd\")\n",
    "element2.send_keys(\"tp6u4vu0\")\n",
    "element2.submit()\n",
    "driver.find_element_by_class_name(\"CwaK9\").click()\n"
   ]
  },
  {
   "cell_type": "code",
   "execution_count": 26,
   "metadata": {},
   "outputs": [],
   "source": [
    "driver.get('https://tixcraft.com/activity/game/18_SHISHAMO')\n",
    "\n"
   ]
  },
  {
   "cell_type": "code",
   "execution_count": 27,
   "metadata": {},
   "outputs": [],
   "source": [
    "\n",
    "driver.find_element_by_class_name(\"btn\").click()\n",
    "\n"
   ]
  },
  {
   "cell_type": "code",
   "execution_count": null,
   "metadata": {},
   "outputs": [],
   "source": []
  },
  {
   "cell_type": "code",
   "execution_count": 28,
   "metadata": {},
   "outputs": [],
   "source": [
    "from selenium.webdriver.support.ui import Select\n",
    "#選幾張票\n",
    "select = Select(driver.find_element_by_id('TicketForm_ticketPrice_01'))\n",
    "# select by value \n",
    "select.select_by_value('4')\n",
    "#點選同意條款\n",
    "driver.find_element_by_id(\"TicketForm_agree\").click()"
   ]
  },
  {
   "cell_type": "code",
   "execution_count": 171,
   "metadata": {},
   "outputs": [],
   "source": [
    "#驗證碼\n",
    "verify = driver.find_element_by_id(\"TicketForm_verifyCode\")\n",
    "verify.send_keys(\"b2878323@gmail.com\")\n",
    "verify.submit()"
   ]
  },
  {
   "cell_type": "code",
   "execution_count": null,
   "metadata": {},
   "outputs": [],
   "source": []
  },
  {
   "cell_type": "code",
   "execution_count": null,
   "metadata": {},
   "outputs": [],
   "source": [
    "import cv2.cv as cv\n",
    "import tesseract\n",
    "gray = cv.LoadImage('captcha.jpeg', cv.CV_LOAD_IMAGE_GRAYSCALE)\n",
    "cv.Threshold(gray, gray, 231, 255, cv.CV_THRESH_BINARY)\n",
    "api = tesseract.TessBaseAPI()\n",
    "api.Init(\".\",\"eng\",tesseract.OEM_DEFAULT)\n",
    "api.SetVariable(\"tessedit_char_whitelist\", \"0123456789abcdefghijklmnopqrstuvwxyz\")\n",
    "api.SetPageSegMode(tesseract.PSM_SINGLE_WORD)\n",
    "tesseract.SetCvImage(gray,api)\n",
    "print api.GetUTF8Text()"
   ]
  },
  {
   "cell_type": "code",
   "execution_count": 18,
   "metadata": {},
   "outputs": [
    {
     "data": {
      "text/plain": [
       "('captcha.png', <http.client.HTTPMessage at 0x5fa4208>)"
      ]
     },
     "execution_count": 18,
     "metadata": {},
     "output_type": "execute_result"
    }
   ],
   "source": [
    "import urllib.request\n",
    "\n",
    "img = driver.find_element_by_id(\"yw0\")\n",
    "src = img.get_attribute('src')\n",
    "# download the image\n",
    "urllib.request.urlretrieve(src, \"captcha.png\")\n"
   ]
  },
  {
   "cell_type": "code",
   "execution_count": 15,
   "metadata": {},
   "outputs": [],
   "source": [
    "import urllib.request\n",
    "data = urllib.request.urlretrieve"
   ]
  },
  {
   "cell_type": "code",
   "execution_count": null,
   "metadata": {},
   "outputs": [],
   "source": []
  },
  {
   "cell_type": "code",
   "execution_count": null,
   "metadata": {},
   "outputs": [],
   "source": []
  }
 ],
 "metadata": {
  "kernelspec": {
   "display_name": "Python 3",
   "language": "python",
   "name": "python3"
  },
  "language_info": {
   "codemirror_mode": {
    "name": "ipython",
    "version": 3
   },
   "file_extension": ".py",
   "mimetype": "text/x-python",
   "name": "python",
   "nbconvert_exporter": "python",
   "pygments_lexer": "ipython3",
   "version": "3.7.0"
  }
 },
 "nbformat": 4,
 "nbformat_minor": 2
}
