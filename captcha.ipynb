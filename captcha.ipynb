{
 "cells": [
  {
   "cell_type": "code",
   "execution_count": 6,
   "metadata": {},
   "outputs": [
    {
     "data": {
      "text/plain": [
       "<matplotlib.image.AxesImage at 0x52677f0>"
      ]
     },
     "execution_count": 6,
     "metadata": {},
     "output_type": "execute_result"
    },
    {
     "data": {
      "image/png": "[encoded data removed]",
      "text/plain": [
       "<Figure size 432x288 with 1 Axes>"
      ]
     },
     "metadata": {
      "needs_background": "light"
     },
     "output_type": "display_data"
    }
   ],
   "source": [
    "import io                                                                       \n",
    "from PIL import Image                                                           \n",
    "import pytesseract       \n",
    "import matplotlib.pyplot as plt\n",
    "import cv2\n",
    "import PIL\n",
    "import numpy\n",
    "\n",
    "raw_data = open('captcha.png', 'rb').read()\n",
    "img = Image.open(io.BytesIO(raw_data))  \n",
    "img2 = img.point(lambda x: 0 if x < 230 else 255)\n",
    "plt.imshow(img)\n"
   ]
  },
  {
   "cell_type": "code",
   "execution_count": 7,
   "metadata": {},
   "outputs": [
    {
     "data": {
      "image/png": "[encoded data removed]",
      "text/plain": [
       "<PIL.PngImagePlugin.PngImageFile image mode=RGB size=120x100 at 0x527BDA0>"
      ]
     },
     "execution_count": 7,
     "metadata": {},
     "output_type": "execute_result"
    }
   ],
   "source": [
    "from PIL import Image\n",
    "image = Image.open('captcha.png')\n",
    "image"
   ]
  },
  {
   "cell_type": "code",
   "execution_count": 8,
   "metadata": {},
   "outputs": [
    {
     "data": {
      "text/plain": [
       "array([[[ 52, 156, 216],\n",
       "        [ 52, 156, 216],\n",
       "        [ 52, 156, 216],\n",
       "        ...,\n",
       "        [ 52, 156, 216],\n",
       "        [ 52, 156, 216],\n",
       "        [ 52, 156, 216]],\n",
       "\n",
       "       [[ 52, 156, 216],\n",
       "        [ 52, 156, 216],\n",
       "        [ 52, 156, 216],\n",
       "        ...,\n",
       "        [ 52, 156, 216],\n",
       "        [ 52, 156, 216],\n",
       "        [ 52, 156, 216]],\n",
       "\n",
       "       [[ 52, 156, 216],\n",
       "        [ 52, 156, 216],\n",
       "        [ 52, 156, 216],\n",
       "        ...,\n",
       "        [ 52, 156, 216],\n",
       "        [ 52, 156, 216],\n",
       "        [ 52, 156, 216]],\n",
       "\n",
       "       ...,\n",
       "\n",
       "       [[ 52, 156, 216],\n",
       "        [ 52, 156, 216],\n",
       "        [ 52, 156, 216],\n",
       "        ...,\n",
       "        [ 52, 156, 216],\n",
       "        [ 52, 156, 216],\n",
       "        [ 52, 156, 216]],\n",
       "\n",
       "       [[ 52, 156, 216],\n",
       "        [ 52, 156, 216],\n",
       "        [ 52, 156, 216],\n",
       "        ...,\n",
       "        [ 52, 156, 216],\n",
       "        [ 52, 156, 216],\n",
       "        [ 52, 156, 216]],\n",
       "\n",
       "       [[ 52, 156, 216],\n",
       "        [ 52, 156, 216],\n",
       "        [ 52, 156, 216],\n",
       "        ...,\n",
       "        [ 52, 156, 216],\n",
       "        [ 52, 156, 216],\n",
       "        [ 52, 156, 216]]], dtype=uint8)"
      ]
     },
     "execution_count": 8,
     "metadata": {},
     "output_type": "execute_result"
    }
   ],
   "source": [
    "\n",
    "pil_image = PIL.Image.open('captcha.png').convert('RGB') \n",
    "open_cv_image = numpy.array(pil_image)\n",
    "open_cv_image\n"
   ]
  },
  {
   "cell_type": "code",
   "execution_count": 9,
   "metadata": {},
   "outputs": [
    {
     "name": "stdout",
     "output_type": "stream",
     "text": [
      "Populating the interactive namespace from numpy and matplotlib\n"
     ]
    },
    {
     "data": {
      "text/plain": [
       "<matplotlib.image.AxesImage at 0x52c74a8>"
      ]
     },
     "execution_count": 9,
     "metadata": {},
     "output_type": "execute_result"
    },
    {
     "data": {
      "image/png": "[encoded data removed]",
      "text/plain": [
       "<Figure size 432x288 with 1 Axes>"
      ]
     },
     "metadata": {
      "needs_background": "light"
     },
     "output_type": "display_data"
    }
   ],
   "source": [
    "%pylab inline\n",
    "from matplotlib import pyplot as plt\n",
    "plt.imshow(open_cv_image)"
   ]
  },
  {
   "cell_type": "code",
   "execution_count": 10,
   "metadata": {
    "collapsed": true
   },
   "outputs": [],
   "source": [
    "imgray = cv2.cvtColor(open_cv_image, cv2.COLOR_BGR2GRAY)\n",
    "ret, thresh = cv2.threshold(imgray, 231, 255, 0)\n",
    "image, contours, hierarchy = cv2.findContours(thresh, cv2.RETR_TREE, cv2.CHAIN_APPROX_SIMPLE)"
   ]
  },
  {
   "cell_type": "code",
   "execution_count": 11,
   "metadata": {
    "collapsed": true
   },
   "outputs": [],
   "source": [
    "cnts = sorted([(c, cv2.boundingRect(c)[0]) for c in contours], key=lambda x:x[1])"
   ]
  },
  {
   "cell_type": "code",
   "execution_count": 12,
   "metadata": {
    "collapsed": true
   },
   "outputs": [],
   "source": [
    "ary = []\n",
    "for (c,_) in cnts:\n",
    "    (x,y,w,h) = cv2.boundingRect(c)\n",
    "    if y < 48 and w >= 16:\n",
    "        ary.append((x,y,w,h) )"
   ]
  },
  {
   "cell_type": "code",
   "execution_count": 13,
   "metadata": {},
   "outputs": [
    {
     "name": "stdout",
     "output_type": "stream",
     "text": [
      "[(12, 35, 16, 46), (27, 45, 16, 23), (43, 21, 18, 41), (64, 46, 27, 18)]\n"
     ]
    }
   ],
   "source": [
    "print(ary)\n"
   ]
  },
  {
   "cell_type": "code",
   "execution_count": 14,
   "metadata": {},
   "outputs": [
    {
     "data": {
      "image/png": "[encoded data removed]",
      "text/plain": [
       "<Figure size 432x288 with 4 Axes>"
      ]
     },
     "metadata": {
      "needs_background": "light"
     },
     "output_type": "display_data"
    }
   ],
   "source": [
    "from matplotlib import pyplot as plt\n",
    "fig = plt.figure()\n",
    "for id, (x,y,w,h) in enumerate(ary):\n",
    "    roi = open_cv_image[y:y+h, x:x+w]\n",
    "    thresh = roi.copy()\n",
    "    a = fig.add_subplot(1, len(ary), id+1)\n",
    "    res = cv2.resize(thresh,(100,100))\n",
    "    cv2.imwrite(\"%d.png\"%(id),res)\n",
    "    plt.imshow(res)"
   ]
  },
  {
   "cell_type": "code",
   "execution_count": null,
   "metadata": {
    "collapsed": true
   },
   "outputs": [],
   "source": []
  },
  {
   "cell_type": "code",
   "execution_count": 15,
   "metadata": {},
   "outputs": [
    {
     "data": {
      "image/png": "[encoded data removed]",
      "text/plain": [
       "<PIL.PngImagePlugin.PngImageFile image mode=RGB size=100x100 at 0x90E6F60>"
      ]
     },
     "execution_count": 15,
     "metadata": {},
     "output_type": "execute_result"
    }
   ],
   "source": [
    "import io                                                                       \n",
    "from PIL import Image                                                           \n",
    "import pytesseract       \n",
    "\n",
    "raw_data = open('1.png', 'rb').read()\n",
    "img = Image.open(io.BytesIO(raw_data))  \n",
    "img\n",
    "                    \n"
   ]
  },
  {
   "cell_type": "code",
   "execution_count": 24,
   "metadata": {},
   "outputs": [
    {
     "name": "stdout",
     "output_type": "stream",
     "text": [
      "15692.1446\n"
     ]
    }
   ],
   "source": [
    "import cv2\n",
    "from skimage import img_as_float\n",
    "pic0=cv2.imread('0.png')\n",
    "pic1=cv2.imread('1.png')\n",
    "pic2=cv2.imread('2.png')\n",
    "pic3=cv2.imread('3.png')\n",
    "\n",
    "def mse(imageA,imageB):\n",
    "    err = np.sum((imageA.astype(\"float\") - imageB.astype(\"float\")) **2)\n",
    "    err /= float(imageA.shape[0] * imageA.shape[1])\n",
    "    return err\n",
    "\n",
    "#print(mse(pic0,pic1))"
   ]
  },
  {
   "cell_type": "code",
   "execution_count": 26,
   "metadata": {},
   "outputs": [
    {
     "name": "stdout",
     "output_type": "stream",
     "text": [
      "('z.png', 999999999)\n",
      "('z.png', 999999999)\n",
      "('z.png', 999999999)\n",
      "('z.png', 999999999)\n"
     ]
    }
   ],
   "source": [
    "import os\n",
    "\n",
    "def getNumber(pic):\n",
    "    min_a=999999999\n",
    "    min_png= None\n",
    "    for png in os.listdir('IMG'):\n",
    "        ref=cv2.imread(\"IMG/\" + png)\n",
    "        if mse(ref,pic)<min_a:\n",
    "            mib_a = mse(ref,pic)\n",
    "            min_png = png\n",
    "    return min_png,min_a\n",
    "\n",
    "print(getNumber(pic0))\n",
    "print(getNumber(pic1))\n",
    "print(getNumber(pic2))\n",
    "print(getNumber(pic3))"
   ]
  },
  {
   "cell_type": "code",
   "execution_count": 23,
   "metadata": {},
   "outputs": [
    {
     "data": {
      "text/plain": [
       "('z.png', 999999999)"
      ]
     },
     "execution_count": 23,
     "metadata": {},
     "output_type": "execute_result"
    }
   ],
   "source": []
  },
  {
   "cell_type": "code",
   "execution_count": null,
   "metadata": {
    "collapsed": true
   },
   "outputs": [],
   "source": []
  },
  {
   "cell_type": "code",
   "execution_count": null,
   "metadata": {
    "collapsed": true
   },
   "outputs": [],
   "source": []
  },
  {
   "cell_type": "code",
   "execution_count": null,
   "metadata": {
    "collapsed": true
   },
   "outputs": [],
   "source": []
  },
  {
   "cell_type": "code",
   "execution_count": null,
   "metadata": {
    "collapsed": true
   },
   "outputs": [],
   "source": []
  },
  {
   "cell_type": "code",
   "execution_count": 197,
   "metadata": {},
   "outputs": [
    {
     "name": "stdout",
     "output_type": "stream",
     "text": [
      "Object `string` not found.\n"
     ]
    }
   ],
   "source": [
    "?? string"
   ]
  },
  {
   "cell_type": "code",
   "execution_count": null,
   "metadata": {
    "collapsed": true
   },
   "outputs": [],
   "source": []
  },
  {
   "cell_type": "code",
   "execution_count": 27,
   "metadata": {},
   "outputs": [
    {
     "data": {
      "text/plain": [
       "array([[[255, 255, 255],\n",
       "        [255, 255, 255],\n",
       "        [255, 255, 255],\n",
       "        ...,\n",
       "        [255, 255, 255],\n",
       "        [255, 255, 255],\n",
       "        [255, 255, 255]],\n",
       "\n",
       "       [[255, 255, 255],\n",
       "        [255, 255, 255],\n",
       "        [255, 255, 255],\n",
       "        ...,\n",
       "        [255, 255, 255],\n",
       "        [255, 255, 255],\n",
       "        [255, 255, 255]],\n",
       "\n",
       "       [[255, 255, 255],\n",
       "        [255, 255, 255],\n",
       "        [255, 255, 255],\n",
       "        ...,\n",
       "        [255, 255, 255],\n",
       "        [255, 255, 255],\n",
       "        [255, 255, 255]],\n",
       "\n",
       "       ...,\n",
       "\n",
       "       [[255, 255, 255],\n",
       "        [255, 255, 255],\n",
       "        [255, 255, 255],\n",
       "        ...,\n",
       "        [255, 255, 255],\n",
       "        [255, 255, 255],\n",
       "        [255, 255, 255]],\n",
       "\n",
       "       [[255, 255, 255],\n",
       "        [255, 255, 255],\n",
       "        [255, 255, 255],\n",
       "        ...,\n",
       "        [255, 255, 255],\n",
       "        [255, 255, 255],\n",
       "        [255, 255, 255]],\n",
       "\n",
       "       [[255, 255, 255],\n",
       "        [255, 255, 255],\n",
       "        [255, 255, 255],\n",
       "        ...,\n",
       "        [255, 255, 255],\n",
       "        [255, 255, 255],\n",
       "        [255, 255, 255]]], dtype=uint8)"
      ]
     },
     "execution_count": 27,
     "metadata": {},
     "output_type": "execute_result"
    }
   ],
   "source": [
    "import PIL\n",
    "import numpy\n",
    "pil_image = PIL.Image.open('l.png').convert('RGB') \n",
    "open_cv_image = numpy.array(pil_image)\n",
    "open_cv_image\n"
   ]
  },
  {
   "cell_type": "code",
   "execution_count": 28,
   "metadata": {},
   "outputs": [
    {
     "name": "stdout",
     "output_type": "stream",
     "text": [
      "Populating the interactive namespace from numpy and matplotlib\n"
     ]
    },
    {
     "data": {
      "text/plain": [
       "<matplotlib.image.AxesImage at 0x6019860>"
      ]
     },
     "execution_count": 28,
     "metadata": {},
     "output_type": "execute_result"
    },
    {
     "data": {
      "image/png": "[encoded data removed]",
      "text/plain": [
       "<Figure size 432x288 with 1 Axes>"
      ]
     },
     "metadata": {
      "needs_background": "light"
     },
     "output_type": "display_data"
    }
   ],
   "source": [
    "%pylab inline\n",
    "from matplotlib import pyplot as plt\n",
    "plt.imshow(open_cv_image)"
   ]
  },
  {
   "cell_type": "code",
   "execution_count": 33,
   "metadata": {
    "collapsed": true
   },
   "outputs": [],
   "source": [
    "imgray = cv2.cvtColor(open_cv_image, cv2.COLOR_BGR2GRAY)\n",
    "ret, thresh = cv2.threshold(imgray, 0, 100, 0)\n",
    "image, contours, hierarchy = cv2.findContours(thresh, cv2.RETR_TREE, cv2.CHAIN_APPROX_SIMPLE)"
   ]
  },
  {
   "cell_type": "code",
   "execution_count": 34,
   "metadata": {
    "collapsed": true
   },
   "outputs": [],
   "source": [
    "cnts = sorted([(c, cv2.boundingRect(c)[0]) for c in contours], key=lambda x:x[1])"
   ]
  },
  {
   "cell_type": "code",
   "execution_count": 35,
   "metadata": {},
   "outputs": [
    {
     "name": "stdout",
     "output_type": "stream",
     "text": [
      "[(0, 0, 40, 82), (12, 14, 7, 50)]\n",
      "2\n"
     ]
    }
   ],
   "source": [
    "ary = []\n",
    "for (c,_) in cnts:\n",
    "    (x,y,w,h) = cv2.boundingRect(c)\n",
    "    if h>40 and h<100:\n",
    "        ary.append((x,y,w,h) )\n",
    "print(ary)\n",
    "print(len(ary))"
   ]
  },
  {
   "cell_type": "code",
   "execution_count": 36,
   "metadata": {},
   "outputs": [
    {
     "data": {
      "image/png": "[encoded data removed]",
      "text/plain": [
       "<Figure size 432x288 with 2 Axes>"
      ]
     },
     "metadata": {
      "needs_background": "light"
     },
     "output_type": "display_data"
    }
   ],
   "source": [
    "from matplotlib import pyplot as plt\n",
    "fig = plt.figure()\n",
    "for id, (x,y,w,h) in enumerate(ary):\n",
    "    roi = open_cv_image[y:y+h, x:x+w]\n",
    "    thresh = roi.copy()\n",
    "    a = fig.add_subplot(1, len(ary), id+1)\n",
    "    res = cv2.resize(thresh,(100,100))\n",
    "    cv2.imwrite(\"%d.png\"%(id),res)\n",
    "    plt.imshow(res)"
   ]
  },
  {
   "cell_type": "code",
   "execution_count": 229,
   "metadata": {
    "collapsed": true
   },
   "outputs": [],
   "source": [
    "ary = [(143, 194, 11, 12), (173, 44, 45, 54), (175, 380, 29, 53), (181, 549, 48, 71), (191, 194, 43, 71), (231, 380, 43, 54), (247, 26, 46, 72)]"
   ]
  },
  {
   "cell_type": "code",
   "execution_count": null,
   "metadata": {
    "collapsed": true
   },
   "outputs": [],
   "source": []
  }
 ],
 "metadata": {
  "kernelspec": {
   "display_name": "Python 3",
   "language": "python",
   "name": "python3"
  },
  "language_info": {
   "codemirror_mode": {
    "name": "ipython",
    "version": 3
   },
   "file_extension": ".py",
   "mimetype": "text/x-python",
   "name": "python",
   "nbconvert_exporter": "python",
   "pygments_lexer": "ipython3",
   "version": "3.6.3"
  }
 },
 "nbformat": 4,
 "nbformat_minor": 2
}
